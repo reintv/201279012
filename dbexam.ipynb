{
 "cells": [
  {
   "cell_type": "code",
   "execution_count": 2,
   "metadata": {
    "collapsed": false
   },
   "outputs": [
    {
     "name": "stderr",
     "output_type": "stream",
     "text": [
      "/root/anaconda3/lib/python3.6/site-packages/IPython/config.py:13: ShimWarning: The `IPython.config` package has been deprecated. You should import from traitlets.config instead.\n",
      "  \"You should import from traitlets.config instead.\", ShimWarning)\n",
      "/root/anaconda3/lib/python3.6/site-packages/IPython/utils/traitlets.py:5: UserWarning: IPython.utils.traitlets has moved to a top-level traitlets package.\n",
      "  warn(\"IPython.utils.traitlets has moved to a top-level traitlets package.\")\n"
     ]
    }
   ],
   "source": [
    "%load_ext sql"
   ]
  },
  {
   "cell_type": "code",
   "execution_count": 3,
   "metadata": {
    "collapsed": false
   },
   "outputs": [
    {
     "data": {
      "text/plain": [
       "'Connected: None@midtermtest.db'"
      ]
     },
     "execution_count": 3,
     "metadata": {},
     "output_type": "execute_result"
    }
   ],
   "source": [
    "%sql sqlite:///midtermtest.db"
   ]
  },
  {
   "cell_type": "markdown",
   "metadata": {},
   "source": [
    "## 고객(client) 테이블 생성 SQL 문장 "
   ]
  },
  {
   "cell_type": "code",
   "execution_count": 99,
   "metadata": {
    "collapsed": false,
    "scrolled": true
   },
   "outputs": [
    {
     "name": "stdout",
     "output_type": "stream",
     "text": [
      "3 rows affected.\n"
     ]
    },
    {
     "data": {
      "text/plain": [
       "[]"
      ]
     },
     "execution_count": 99,
     "metadata": {},
     "output_type": "execute_result"
    }
   ],
   "source": [
    "%%sql create table client (\n",
    "        c_no int not null,\n",
    "        c_name varchar(10),\n",
    "        c_age int check (0<c_age<90),\n",
    "        c_sex char(6) check (c_sex in (\"male\", \"female\")),\n",
    "        c_grade char(6) check (c_grade in (\"vip\", \"gold\", \"silver\")),\n",
    "        c_item char(10),\n",
    "        c_saler int,\n",
    "        c_fmon char(12),\n",
    "        c_lmon char(12),\n",
    "        primary key (c_no),\n",
    "        constraint s_f_key foreign key (c_saler) references saler on update cascade,\n",
    "        constraint i_f_key foreign key (c_item) references item on update cascade,\n",
    "        constraint g_f_key foreign key (c_grade) references grade on update cascade\n",
    "        );"
   ]
  },
  {
   "cell_type": "markdown",
   "metadata": {},
   "source": [
    "<hr/>"
   ]
  },
  {
   "cell_type": "markdown",
   "metadata": {},
   "source": [
    "## 판매자(saler) 테이블 생성 SQL 문장"
   ]
  },
  {
   "cell_type": "code",
   "execution_count": 100,
   "metadata": {
    "collapsed": false
   },
   "outputs": [
    {
     "name": "stdout",
     "output_type": "stream",
     "text": [
      "3 rows affected.\n"
     ]
    },
    {
     "data": {
      "text/plain": [
       "[]"
      ]
     },
     "execution_count": 100,
     "metadata": {},
     "output_type": "execute_result"
    }
   ],
   "source": [
    "%%sql create table saler (\n",
    "        s_no int not null,\n",
    "        s_name varchar(10),\n",
    "        s_payment int check (29999<s_payment),\n",
    "        s_grade char(10) not null,\n",
    "        primary key (s_no),\n",
    "        constraint c_f_key foreign key (s_no) references client on update cascade on delete cascade\n",
    "        );"
   ]
  },
  {
   "cell_type": "markdown",
   "metadata": {},
   "source": [
    "<hr/>"
   ]
  },
  {
   "cell_type": "markdown",
   "metadata": {},
   "source": [
    "## 상품(item) 테이블 생성 SQL 문장"
   ]
  },
  {
   "cell_type": "code",
   "execution_count": 101,
   "metadata": {
    "collapsed": false
   },
   "outputs": [
    {
     "name": "stdout",
     "output_type": "stream",
     "text": [
      "3 rows affected.\n"
     ]
    },
    {
     "data": {
      "text/plain": [
       "[]"
      ]
     },
     "execution_count": 101,
     "metadata": {},
     "output_type": "execute_result"
    }
   ],
   "source": [
    "%%sql create table item (\n",
    "        i_no int not null,\n",
    "        i_name varchar(10),\n",
    "        i_price int check (9<i_price),\n",
    "        primary key (i_no),\n",
    "        constraint c_f_key foreign key (i_no) references client on update cascade on delete cascade\n",
    "        );"
   ]
  },
  {
   "cell_type": "markdown",
   "metadata": {},
   "source": [
    "<hr/>"
   ]
  },
  {
   "cell_type": "markdown",
   "metadata": {},
   "source": [
    "## 등급(grade) 테이블 생성 SQL 문장"
   ]
  },
  {
   "cell_type": "code",
   "execution_count": 102,
   "metadata": {
    "collapsed": false
   },
   "outputs": [
    {
     "name": "stdout",
     "output_type": "stream",
     "text": [
      "3 rows affected.\n"
     ]
    },
    {
     "data": {
      "text/plain": [
       "[]"
      ]
     },
     "execution_count": 102,
     "metadata": {},
     "output_type": "execute_result"
    }
   ],
   "source": [
    "%%sql create table grade (\n",
    "        g_grade char(6) unique,\n",
    "        g_sale float(3) check(g_sale<0.11),\n",
    "        primary key(g_grade),\n",
    "        constraint c_f_key foreign key (g_grade) references client on update cascade on delete cascade\n",
    "        );"
   ]
  },
  {
   "cell_type": "markdown",
   "metadata": {},
   "source": [
    "<hr/>"
   ]
  },
  {
   "cell_type": "code",
   "execution_count": 92,
   "metadata": {
    "collapsed": false,
    "scrolled": true
   },
   "outputs": [
    {
     "name": "stdout",
     "output_type": "stream",
     "text": [
      "3 rows affected.\n"
     ]
    },
    {
     "data": {
      "text/plain": [
       "[]"
      ]
     },
     "execution_count": 92,
     "metadata": {},
     "output_type": "execute_result"
    }
   ],
   "source": [
    "%sql update saler set s_grade = 'director' where s_grade='derector';"
   ]
  },
  {
   "cell_type": "markdown",
   "metadata": {},
   "source": [
    "<hr/>"
   ]
  },
  {
   "cell_type": "markdown",
   "metadata": {},
   "source": [
    "# 1. 첫번 째 테이블 (client) "
   ]
  },
  {
   "cell_type": "code",
   "execution_count": 108,
   "metadata": {
    "collapsed": false
   },
   "outputs": [
    {
     "name": "stdout",
     "output_type": "stream",
     "text": [
      "Done.\n"
     ]
    },
    {
     "data": {
      "text/html": [
       "<table>\n",
       "    <tr>\n",
       "        <th>c_no</th>\n",
       "        <th>c_name</th>\n",
       "        <th>c_age</th>\n",
       "        <th>c_sex</th>\n",
       "        <th>c_grade</th>\n",
       "        <th>c_item</th>\n",
       "        <th>c_saler</th>\n",
       "        <th>c_fmon</th>\n",
       "        <th>c_lmon</th>\n",
       "    </tr>\n",
       "    <tr>\n",
       "        <td>1</td>\n",
       "        <td>johnson</td>\n",
       "        <td>43</td>\n",
       "        <td>male</td>\n",
       "        <td>vip</td>\n",
       "        <td>10</td>\n",
       "        <td>100</td>\n",
       "        <td>2010-08-01</td>\n",
       "        <td>2020-07-30</td>\n",
       "    </tr>\n",
       "    <tr>\n",
       "        <td>2</td>\n",
       "        <td>catherin</td>\n",
       "        <td>57</td>\n",
       "        <td>female</td>\n",
       "        <td>gold</td>\n",
       "        <td>11</td>\n",
       "        <td>202</td>\n",
       "        <td>2017-10-01</td>\n",
       "        <td>2027-09-31</td>\n",
       "    </tr>\n",
       "    <tr>\n",
       "        <td>3</td>\n",
       "        <td>rick</td>\n",
       "        <td>25</td>\n",
       "        <td>male</td>\n",
       "        <td>gold</td>\n",
       "        <td>20</td>\n",
       "        <td>101</td>\n",
       "        <td>2012-05-01</td>\n",
       "        <td>2032-04-30</td>\n",
       "    </tr>\n",
       "    <tr>\n",
       "        <td>4</td>\n",
       "        <td>gordick</td>\n",
       "        <td>65</td>\n",
       "        <td>male</td>\n",
       "        <td>vip</td>\n",
       "        <td>21</td>\n",
       "        <td>102</td>\n",
       "        <td>2007-01-01</td>\n",
       "        <td>2026-12-31</td>\n",
       "    </tr>\n",
       "    <tr>\n",
       "        <td>5</td>\n",
       "        <td>isabell</td>\n",
       "        <td>10</td>\n",
       "        <td>female</td>\n",
       "        <td>silver</td>\n",
       "        <td>40</td>\n",
       "        <td>201</td>\n",
       "        <td>2017-10-01</td>\n",
       "        <td>2027-09-31</td>\n",
       "    </tr>\n",
       "    <tr>\n",
       "        <td>6</td>\n",
       "        <td>seyfried</td>\n",
       "        <td>30</td>\n",
       "        <td>female</td>\n",
       "        <td>vip</td>\n",
       "        <td>11</td>\n",
       "        <td>302</td>\n",
       "        <td>2015-02-01</td>\n",
       "        <td>2035-01-30</td>\n",
       "    </tr>\n",
       "    <tr>\n",
       "        <td>7</td>\n",
       "        <td>murto</td>\n",
       "        <td>52</td>\n",
       "        <td>male</td>\n",
       "        <td>gold</td>\n",
       "        <td>10</td>\n",
       "        <td>301</td>\n",
       "        <td>2016-09-01</td>\n",
       "        <td>2021-08-30</td>\n",
       "    </tr>\n",
       "    <tr>\n",
       "        <td>8</td>\n",
       "        <td>glen</td>\n",
       "        <td>30</td>\n",
       "        <td>male</td>\n",
       "        <td>vip</td>\n",
       "        <td>30</td>\n",
       "        <td>103</td>\n",
       "        <td>2012-06-01</td>\n",
       "        <td>2022-05-31</td>\n",
       "    </tr>\n",
       "    <tr>\n",
       "        <td>9</td>\n",
       "        <td>decaprio</td>\n",
       "        <td>50</td>\n",
       "        <td>male</td>\n",
       "        <td>vip</td>\n",
       "        <td>11</td>\n",
       "        <td>300</td>\n",
       "        <td>2005-08-01</td>\n",
       "        <td>2035-07-30</td>\n",
       "    </tr>\n",
       "    <tr>\n",
       "        <td>10</td>\n",
       "        <td>trump</td>\n",
       "        <td>70</td>\n",
       "        <td>male</td>\n",
       "        <td>vip</td>\n",
       "        <td>11</td>\n",
       "        <td>200</td>\n",
       "        <td>1990-03-01</td>\n",
       "        <td>2030-02-28</td>\n",
       "    </tr>\n",
       "    <tr>\n",
       "        <td>11</td>\n",
       "        <td>busi</td>\n",
       "        <td>77</td>\n",
       "        <td>male</td>\n",
       "        <td>vip</td>\n",
       "        <td>21</td>\n",
       "        <td>100</td>\n",
       "        <td>1995-02-01</td>\n",
       "        <td>2025-01-31</td>\n",
       "    </tr>\n",
       "    <tr>\n",
       "        <td>12</td>\n",
       "        <td>ioniq</td>\n",
       "        <td>5</td>\n",
       "        <td>female</td>\n",
       "        <td>gold</td>\n",
       "        <td>41</td>\n",
       "        <td>103</td>\n",
       "        <td>2016-05-01</td>\n",
       "        <td>2026-04-30</td>\n",
       "    </tr>\n",
       "    <tr>\n",
       "        <td>13</td>\n",
       "        <td>messi</td>\n",
       "        <td>30</td>\n",
       "        <td>male</td>\n",
       "        <td>vip</td>\n",
       "        <td>31</td>\n",
       "        <td>101</td>\n",
       "        <td>2006-03-01</td>\n",
       "        <td>2021-02-28</td>\n",
       "    </tr>\n",
       "    <tr>\n",
       "        <td>14</td>\n",
       "        <td>jordan</td>\n",
       "        <td>40</td>\n",
       "        <td>male</td>\n",
       "        <td>silver</td>\n",
       "        <td>50</td>\n",
       "        <td>102</td>\n",
       "        <td>2010-11-01</td>\n",
       "        <td>2030-10-31</td>\n",
       "    </tr>\n",
       "    <tr>\n",
       "        <td>15</td>\n",
       "        <td>manson</td>\n",
       "        <td>21</td>\n",
       "        <td>male</td>\n",
       "        <td>gold</td>\n",
       "        <td>51</td>\n",
       "        <td>200</td>\n",
       "        <td>2014-03-01</td>\n",
       "        <td>2024-02-28</td>\n",
       "    </tr>\n",
       "</table>"
      ],
      "text/plain": [
       "[(1, 'johnson', 43, 'male', 'vip', '10', 100, '2010-08-01', '2020-07-30'),\n",
       " (2, 'catherin', 57, 'female', 'gold', '11', 202, '2017-10-01', '2027-09-31'),\n",
       " (3, 'rick', 25, 'male', 'gold', '20', 101, '2012-05-01', '2032-04-30'),\n",
       " (4, 'gordick', 65, 'male', 'vip', '21', 102, '2007-01-01', '2026-12-31'),\n",
       " (5, 'isabell', 10, 'female', 'silver', '40', 201, '2017-10-01', '2027-09-31'),\n",
       " (6, 'seyfried', 30, 'female', 'vip', '11', 302, '2015-02-01', '2035-01-30'),\n",
       " (7, 'murto', 52, 'male', 'gold', '10', 301, '2016-09-01', '2021-08-30'),\n",
       " (8, 'glen', 30, 'male', 'vip', '30', 103, '2012-06-01', '2022-05-31'),\n",
       " (9, 'decaprio', 50, 'male', 'vip', '11', 300, '2005-08-01', '2035-07-30'),\n",
       " (10, 'trump', 70, 'male', 'vip', '11', 200, '1990-03-01', '2030-02-28'),\n",
       " (11, 'busi', 77, 'male', 'vip', '21', 100, '1995-02-01', '2025-01-31'),\n",
       " (12, 'ioniq', 5, 'female', 'gold', '41', 103, '2016-05-01', '2026-04-30'),\n",
       " (13, 'messi', 30, 'male', 'vip', '31', 101, '2006-03-01', '2021-02-28'),\n",
       " (14, 'jordan', 40, 'male', 'silver', '50', 102, '2010-11-01', '2030-10-31'),\n",
       " (15, 'manson', 21, 'male', 'gold', '51', 200, '2014-03-01', '2024-02-28')]"
      ]
     },
     "execution_count": 108,
     "metadata": {},
     "output_type": "execute_result"
    }
   ],
   "source": [
    "%sql select * from client;"
   ]
  },
  {
   "cell_type": "markdown",
   "metadata": {},
   "source": [
    "1. 보험사 고객의 정보를 가진 데이터베이스이다. 고객번호, 이름, 나이, 성별, 등급, 상품번호, 판매자번호, 가입월, 만기월 총  9개의 어트리뷰트로 구성되어 있다.\n",
    "\n",
    "2. 기본키는 고객번호(c_no) 이며, 외래키로 등급(c_grade), 상품번호(c_item), 판매자번호(c_saler) 3개를 두어 각각의 테이블이 위 테이블을 참조 할 수 있도록 하였다.\n",
    "\n",
    "3. 어트리뷰트 제약조건으로 나이(c_age)어트리뷰트는 0세 ~ 90세, 성별(c_sex)어트리뷰트는 'male'과 'female'값을 가지는지 체크, 등급(c_grade)어트리뷰트는 'vip', 'gole'와 'silver'값을 가지는지 체크하도록 하였다.\n",
    "   "
   ]
  },
  {
   "cell_type": "markdown",
   "metadata": {},
   "source": [
    "# 2. 두번 째 테이블 (saler) "
   ]
  },
  {
   "cell_type": "code",
   "execution_count": 109,
   "metadata": {
    "collapsed": false,
    "scrolled": false
   },
   "outputs": [
    {
     "name": "stdout",
     "output_type": "stream",
     "text": [
      "Done.\n"
     ]
    },
    {
     "data": {
      "text/html": [
       "<table>\n",
       "    <tr>\n",
       "        <th>s_no</th>\n",
       "        <th>s_name</th>\n",
       "        <th>s_payment</th>\n",
       "        <th>s_grade</th>\n",
       "    </tr>\n",
       "    <tr>\n",
       "        <td>100</td>\n",
       "        <td>stark</td>\n",
       "        <td>50000</td>\n",
       "        <td>director</td>\n",
       "    </tr>\n",
       "    <tr>\n",
       "        <td>101</td>\n",
       "        <td>cambell</td>\n",
       "        <td>40000</td>\n",
       "        <td>manager</td>\n",
       "    </tr>\n",
       "    <tr>\n",
       "        <td>102</td>\n",
       "        <td>gotham</td>\n",
       "        <td>30000</td>\n",
       "        <td>staff</td>\n",
       "    </tr>\n",
       "    <tr>\n",
       "        <td>103</td>\n",
       "        <td>lee</td>\n",
       "        <td>30000</td>\n",
       "        <td>staff</td>\n",
       "    </tr>\n",
       "    <tr>\n",
       "        <td>200</td>\n",
       "        <td>jang</td>\n",
       "        <td>50000</td>\n",
       "        <td>director</td>\n",
       "    </tr>\n",
       "    <tr>\n",
       "        <td>201</td>\n",
       "        <td>hathaway</td>\n",
       "        <td>40000</td>\n",
       "        <td>manager</td>\n",
       "    </tr>\n",
       "    <tr>\n",
       "        <td>202</td>\n",
       "        <td>bradpitt</td>\n",
       "        <td>30000</td>\n",
       "        <td>staff</td>\n",
       "    </tr>\n",
       "    <tr>\n",
       "        <td>300</td>\n",
       "        <td>obama</td>\n",
       "        <td>50000</td>\n",
       "        <td>director</td>\n",
       "    </tr>\n",
       "    <tr>\n",
       "        <td>301</td>\n",
       "        <td>meilan</td>\n",
       "        <td>40000</td>\n",
       "        <td>manager</td>\n",
       "    </tr>\n",
       "    <tr>\n",
       "        <td>302</td>\n",
       "        <td>victor</td>\n",
       "        <td>30000</td>\n",
       "        <td>staff</td>\n",
       "    </tr>\n",
       "</table>"
      ],
      "text/plain": [
       "[(100, 'stark', 50000, 'director'),\n",
       " (101, 'cambell', 40000, 'manager'),\n",
       " (102, 'gotham', 30000, 'staff'),\n",
       " (103, 'lee', 30000, 'staff'),\n",
       " (200, 'jang', 50000, 'director'),\n",
       " (201, 'hathaway', 40000, 'manager'),\n",
       " (202, 'bradpitt', 30000, 'staff'),\n",
       " (300, 'obama', 50000, 'director'),\n",
       " (301, 'meilan', 40000, 'manager'),\n",
       " (302, 'victor', 30000, 'staff')]"
      ]
     },
     "execution_count": 109,
     "metadata": {},
     "output_type": "execute_result"
    }
   ],
   "source": [
    "%sql select * from saler;"
   ]
  },
  {
   "cell_type": "markdown",
   "metadata": {},
   "source": [
    "1. 보험 판매자의 정보를 가지고 있는 데이터베이스이다. 판매자번호, 이름, 급여, 직급까지 4가지 어트리뷰트를 가지고 있다.\n",
    "\n",
    "2. 기본키겸 외래키인 판매자번호(s_no)를 두어 다른 테이블이 이 테이블을 참조할 수 있도록 하였다. \n",
    "\n",
    "3. 어트리뷰트 제약조건으로 급여(s_payment)어트리뷰트의 값이 29999이상의 값을 가지는지 체크하도록 하였다.\n"
   ]
  },
  {
   "cell_type": "markdown",
   "metadata": {},
   "source": [
    "# 3. 세번 째 테이블 (item)"
   ]
  },
  {
   "cell_type": "code",
   "execution_count": 110,
   "metadata": {
    "collapsed": false,
    "scrolled": true
   },
   "outputs": [
    {
     "name": "stdout",
     "output_type": "stream",
     "text": [
      "Done.\n"
     ]
    },
    {
     "data": {
      "text/html": [
       "<table>\n",
       "    <tr>\n",
       "        <th>i_no</th>\n",
       "        <th>i_name</th>\n",
       "        <th>i_price</th>\n",
       "    </tr>\n",
       "    <tr>\n",
       "        <td>10</td>\n",
       "        <td>total</td>\n",
       "        <td>15</td>\n",
       "    </tr>\n",
       "    <tr>\n",
       "        <td>11</td>\n",
       "        <td>total_v</td>\n",
       "        <td>30</td>\n",
       "    </tr>\n",
       "    <tr>\n",
       "        <td>20</td>\n",
       "        <td>cancer</td>\n",
       "        <td>40</td>\n",
       "    </tr>\n",
       "    <tr>\n",
       "        <td>21</td>\n",
       "        <td>cancer_v</td>\n",
       "        <td>60</td>\n",
       "    </tr>\n",
       "    <tr>\n",
       "        <td>30</td>\n",
       "        <td>wound</td>\n",
       "        <td>10</td>\n",
       "    </tr>\n",
       "    <tr>\n",
       "        <td>31</td>\n",
       "        <td>wound_v</td>\n",
       "        <td>30</td>\n",
       "    </tr>\n",
       "    <tr>\n",
       "        <td>40</td>\n",
       "        <td>kid</td>\n",
       "        <td>20</td>\n",
       "    </tr>\n",
       "    <tr>\n",
       "        <td>41</td>\n",
       "        <td>kid_v</td>\n",
       "        <td>40</td>\n",
       "    </tr>\n",
       "    <tr>\n",
       "        <td>50</td>\n",
       "        <td>tooth</td>\n",
       "        <td>80</td>\n",
       "    </tr>\n",
       "    <tr>\n",
       "        <td>51</td>\n",
       "        <td>tooth_v</td>\n",
       "        <td>99</td>\n",
       "    </tr>\n",
       "</table>"
      ],
      "text/plain": [
       "[(10, 'total', 15),\n",
       " (11, 'total_v', 30),\n",
       " (20, 'cancer', 40),\n",
       " (21, 'cancer_v', 60),\n",
       " (30, 'wound', 10),\n",
       " (31, 'wound_v', 30),\n",
       " (40, 'kid', 20),\n",
       " (41, 'kid_v', 40),\n",
       " (50, 'tooth', 80),\n",
       " (51, 'tooth_v', 99)]"
      ]
     },
     "execution_count": 110,
     "metadata": {},
     "output_type": "execute_result"
    }
   ],
   "source": [
    "%sql select * from item;"
   ]
  },
  {
   "cell_type": "markdown",
   "metadata": {},
   "source": [
    "1. 보험사에서 판매하는 상품의 정보를 가지고 있는 데이터베이스이다. 상품번호, 상품이름, 가격까지 3가지 어트리뷰트를 가지고있다.\n",
    "\n",
    "2. 기본키겸 외래키인 상품번호(i_no)를 두어 다른 테이블이 이 테이블값을 참조할 수 있도록 하였다.\n",
    "\n",
    "3. 어트리뷰트 제약조건으로 상품가격(i_price)어트리뷰트의 값이 10이상이 되는지 체크하도록 하였다."
   ]
  },
  {
   "cell_type": "markdown",
   "metadata": {},
   "source": [
    "# 4. 네번 째 테이블 (grade)"
   ]
  },
  {
   "cell_type": "code",
   "execution_count": 111,
   "metadata": {
    "collapsed": false,
    "scrolled": false
   },
   "outputs": [
    {
     "name": "stdout",
     "output_type": "stream",
     "text": [
      "Done.\n"
     ]
    },
    {
     "data": {
      "text/html": [
       "<table>\n",
       "    <tr>\n",
       "        <th>g_grade</th>\n",
       "        <th>g_sale</th>\n",
       "    </tr>\n",
       "    <tr>\n",
       "        <td>vip</td>\n",
       "        <td>0.09</td>\n",
       "    </tr>\n",
       "    <tr>\n",
       "        <td>gold</td>\n",
       "        <td>0.07</td>\n",
       "    </tr>\n",
       "    <tr>\n",
       "        <td>silver</td>\n",
       "        <td>0.05</td>\n",
       "    </tr>\n",
       "</table>"
      ],
      "text/plain": [
       "[('vip', 0.09), ('gold', 0.07), ('silver', 0.05)]"
      ]
     },
     "execution_count": 111,
     "metadata": {},
     "output_type": "execute_result"
    }
   ],
   "source": [
    "%sql select * from grade;"
   ]
  },
  {
   "cell_type": "markdown",
   "metadata": {},
   "source": [
    "1. 할인등급에 따라 할인율 정보를 가지고 있는 데이터베이스이다. 할인등급, 할인율까지 2가지 어트리뷰트를 가지고 있다.\n",
    "\n",
    "2. 기본키겸 외래키인 등급(g_grade)를 두어 다른 테이블이 이 테이블값을 참조할 수 있도록 하였다.\n",
    "\n",
    "3. 어트리뷰트 제약조건으로 등급(g_grade)어트리뷰트가 유일한 값을 가지는지, 할인율이 0.1이하의 값을 가지는지 체크하도록 하였다."
   ]
  },
  {
   "cell_type": "markdown",
   "metadata": {},
   "source": [
    "## 테이블간 참조 상황 도식화"
   ]
  },
  {
   "cell_type": "markdown",
   "metadata": {},
   "source": [
    "![tablechamjo](./dbimage/tablechamjo.jpg)"
   ]
  },
  {
   "cell_type": "markdown",
   "metadata": {},
   "source": [
    "<hr/>"
   ]
  },
  {
   "cell_type": "markdown",
   "metadata": {},
   "source": [
    "## 질의1. 판매자 번호 '100'번에게 상품을 구매한 고객들의 이름을 검색하라."
   ]
  },
  {
   "cell_type": "code",
   "execution_count": 112,
   "metadata": {
    "collapsed": false,
    "scrolled": true
   },
   "outputs": [
    {
     "name": "stdout",
     "output_type": "stream",
     "text": [
      "Done.\n"
     ]
    },
    {
     "data": {
      "text/html": [
       "<table>\n",
       "    <tr>\n",
       "        <th>c_name</th>\n",
       "    </tr>\n",
       "    <tr>\n",
       "        <td>johnson</td>\n",
       "    </tr>\n",
       "    <tr>\n",
       "        <td>busi</td>\n",
       "    </tr>\n",
       "</table>"
      ],
      "text/plain": [
       "[('johnson',), ('busi',)]"
      ]
     },
     "execution_count": 112,
     "metadata": {},
     "output_type": "execute_result"
    }
   ],
   "source": [
    "%sql select c_name from client where c_saler=100;"
   ]
  },
  {
   "cell_type": "markdown",
   "metadata": {},
   "source": [
    "##    테이블 도식화"
   ]
  },
  {
   "cell_type": "markdown",
   "metadata": {},
   "source": [
    "![query1](./dbimage/query1.jpg)"
   ]
  },
  {
   "cell_type": "markdown",
   "metadata": {},
   "source": [
    "## 관계형 대수식"
   ]
  },
  {
   "cell_type": "markdown",
   "metadata": {},
   "source": [
    "R ← πc_name (σc_saler=100 (client))"
   ]
  },
  {
   "cell_type": "markdown",
   "metadata": {},
   "source": [
    "<hr/>"
   ]
  },
  {
   "cell_type": "markdown",
   "metadata": {},
   "source": [
    "## 질의2. 직급이 'manager'인 판매자에게 구입한 고객들의 이름을 검색하라."
   ]
  },
  {
   "cell_type": "code",
   "execution_count": 117,
   "metadata": {
    "collapsed": false
   },
   "outputs": [
    {
     "name": "stdout",
     "output_type": "stream",
     "text": [
      "Done.\n"
     ]
    },
    {
     "data": {
      "text/html": [
       "<table>\n",
       "    <tr>\n",
       "        <th>s_name</th>\n",
       "        <th>s_grade</th>\n",
       "        <th>c_name</th>\n",
       "    </tr>\n",
       "    <tr>\n",
       "        <td>cambell</td>\n",
       "        <td>manager</td>\n",
       "        <td>rick</td>\n",
       "    </tr>\n",
       "    <tr>\n",
       "        <td>hathaway</td>\n",
       "        <td>manager</td>\n",
       "        <td>isabell</td>\n",
       "    </tr>\n",
       "    <tr>\n",
       "        <td>meilan</td>\n",
       "        <td>manager</td>\n",
       "        <td>murto</td>\n",
       "    </tr>\n",
       "    <tr>\n",
       "        <td>cambell</td>\n",
       "        <td>manager</td>\n",
       "        <td>messi</td>\n",
       "    </tr>\n",
       "</table>"
      ],
      "text/plain": [
       "[('cambell', 'manager', 'rick'),\n",
       " ('hathaway', 'manager', 'isabell'),\n",
       " ('meilan', 'manager', 'murto'),\n",
       " ('cambell', 'manager', 'messi')]"
      ]
     },
     "execution_count": 117,
     "metadata": {},
     "output_type": "execute_result"
    }
   ],
   "source": [
    "%sql select s_name, s_grade, c_name from client c, saler s where s.s_grade='manager' and s.s_no = c.c_saler;"
   ]
  },
  {
   "cell_type": "markdown",
   "metadata": {},
   "source": [
    "## 테이블 도식화"
   ]
  },
  {
   "cell_type": "markdown",
   "metadata": {},
   "source": [
    "![query2](./dbimage/query2.jpg)"
   ]
  },
  {
   "cell_type": "markdown",
   "metadata": {},
   "source": [
    "## 관계형 대수식"
   ]
  },
  {
   "cell_type": "markdown",
   "metadata": {},
   "source": [
    "R1 ← client⋈(c_saler=s_no) saler <br/>\n",
    "R2 ← πc_name (σs_grade='manage' (R1))"
   ]
  },
  {
   "cell_type": "markdown",
   "metadata": {},
   "source": [
    "<hr/>"
   ]
  },
  {
   "cell_type": "markdown",
   "metadata": {},
   "source": [
    "## 질의3. 판매자 번호 '101'번인 판매자가 판매한 상품 종류를 검색하라."
   ]
  },
  {
   "cell_type": "code",
   "execution_count": 121,
   "metadata": {
    "collapsed": false
   },
   "outputs": [
    {
     "name": "stdout",
     "output_type": "stream",
     "text": [
      "Done.\n"
     ]
    },
    {
     "data": {
      "text/html": [
       "<table>\n",
       "    <tr>\n",
       "        <th>c_name</th>\n",
       "        <th>i_name</th>\n",
       "    </tr>\n",
       "    <tr>\n",
       "        <td>rick</td>\n",
       "        <td>cancer</td>\n",
       "    </tr>\n",
       "    <tr>\n",
       "        <td>messi</td>\n",
       "        <td>wound_v</td>\n",
       "    </tr>\n",
       "</table>"
      ],
      "text/plain": [
       "[('rick', 'cancer'), ('messi', 'wound_v')]"
      ]
     },
     "execution_count": 121,
     "metadata": {},
     "output_type": "execute_result"
    }
   ],
   "source": [
    "%sql select c_name ,i_name from client, item where c_saler = 101 and i_no=c_item;"
   ]
  },
  {
   "cell_type": "markdown",
   "metadata": {},
   "source": [
    "## 테이블 도식화"
   ]
  },
  {
   "cell_type": "markdown",
   "metadata": {},
   "source": [
    "![query3](./dbimage/query3.jpg)"
   ]
  },
  {
   "cell_type": "markdown",
   "metadata": {},
   "source": [
    "## 관계형 대수식"
   ]
  },
  {
   "cell_type": "markdown",
   "metadata": {},
   "source": [
    "R1 ← client⋈(c_item=i_no) item <br/>\n",
    "R2 ← πi_name (σc_saler=101 (R1))"
   ]
  },
  {
   "cell_type": "markdown",
   "metadata": {},
   "source": [
    "<hr/>"
   ]
  },
  {
   "cell_type": "markdown",
   "metadata": {},
   "source": [
    "## 질의4. 판매자 번호 '103'번인 판매자에게 구매한 고객들의 등급을 검색하라."
   ]
  },
  {
   "cell_type": "code",
   "execution_count": 265,
   "metadata": {
    "collapsed": false,
    "scrolled": true
   },
   "outputs": [
    {
     "name": "stdout",
     "output_type": "stream",
     "text": [
      "Done.\n"
     ]
    },
    {
     "data": {
      "text/html": [
       "<table>\n",
       "    <tr>\n",
       "        <th>c_grade</th>\n",
       "    </tr>\n",
       "    <tr>\n",
       "        <td>vip</td>\n",
       "    </tr>\n",
       "    <tr>\n",
       "        <td>gold</td>\n",
       "    </tr>\n",
       "</table>"
      ],
      "text/plain": [
       "[('vip',), ('gold',)]"
      ]
     },
     "execution_count": 265,
     "metadata": {},
     "output_type": "execute_result"
    }
   ],
   "source": [
    "%sql select c_grade from client where c_saler = 103;"
   ]
  },
  {
   "cell_type": "markdown",
   "metadata": {},
   "source": [
    "## 테이블 도식화"
   ]
  },
  {
   "cell_type": "markdown",
   "metadata": {},
   "source": [
    "![query4](./dbimage/query4.jpg)"
   ]
  },
  {
   "cell_type": "markdown",
   "metadata": {},
   "source": [
    "## 관계형 대수식"
   ]
  },
  {
   "cell_type": "markdown",
   "metadata": {},
   "source": [
    "R ← πc_grade (σc_saler=103 (client))"
   ]
  },
  {
   "cell_type": "markdown",
   "metadata": {},
   "source": [
    "<hr/>"
   ]
  },
  {
   "cell_type": "markdown",
   "metadata": {},
   "source": [
    "## 질의5. 직급이 'staff'인 판매자에게 구매한 '남성' 성별의 고객 수를 검색하라."
   ]
  },
  {
   "cell_type": "code",
   "execution_count": 367,
   "metadata": {
    "collapsed": false
   },
   "outputs": [
    {
     "name": "stdout",
     "output_type": "stream",
     "text": [
      "Done.\n"
     ]
    },
    {
     "data": {
      "text/html": [
       "<table>\n",
       "    <tr>\n",
       "        <th>male</th>\n",
       "    </tr>\n",
       "    <tr>\n",
       "        <td>3</td>\n",
       "    </tr>\n",
       "</table>"
      ],
      "text/plain": [
       "[(3,)]"
      ]
     },
     "execution_count": 367,
     "metadata": {},
     "output_type": "execute_result"
    }
   ],
   "source": [
    "%sql select (count(c_sex='male')) as  male from client c, saler s where s.s_grade='staff' and c.c_saler = s.s_no and c.c_sex='male' ;"
   ]
  },
  {
   "cell_type": "markdown",
   "metadata": {},
   "source": [
    "## 테이블 도식화"
   ]
  },
  {
   "cell_type": "markdown",
   "metadata": {},
   "source": [
    "![query5](./dbimage/query5.jpg)"
   ]
  },
  {
   "cell_type": "markdown",
   "metadata": {},
   "source": [
    "## 관계형 대수식"
   ]
  },
  {
   "cell_type": "markdown",
   "metadata": {},
   "source": [
    "R1 ← client⋈(c_saler=s_no) saler <br/>\n",
    "R2 ← πc_sex (σs_grade='staff' (R1)) <br/>\n",
    "R3 ← πR1='male' (R2) <br/>\n",
    "R4 ← count(R3)"
   ]
  },
  {
   "cell_type": "markdown",
   "metadata": {},
   "source": [
    "<hr/>"
   ]
  },
  {
   "cell_type": "markdown",
   "metadata": {},
   "source": [
    "## 질의6. 이름이 'seyfried'인 고객이 구매한 상품명을 검색하라."
   ]
  },
  {
   "cell_type": "code",
   "execution_count": 127,
   "metadata": {
    "collapsed": false
   },
   "outputs": [
    {
     "name": "stdout",
     "output_type": "stream",
     "text": [
      "Done.\n"
     ]
    },
    {
     "data": {
      "text/html": [
       "<table>\n",
       "    <tr>\n",
       "        <th>i_name</th>\n",
       "    </tr>\n",
       "    <tr>\n",
       "        <td>total_v</td>\n",
       "    </tr>\n",
       "</table>"
      ],
      "text/plain": [
       "[('total_v',)]"
      ]
     },
     "execution_count": 127,
     "metadata": {},
     "output_type": "execute_result"
    }
   ],
   "source": [
    "%sql select i_name from client, item where c_name='seyfried' and i_no=c_item;"
   ]
  },
  {
   "cell_type": "markdown",
   "metadata": {},
   "source": [
    "## 테이블 도식화"
   ]
  },
  {
   "cell_type": "markdown",
   "metadata": {},
   "source": [
    "![query6](./dbimage/query6.jpg)"
   ]
  },
  {
   "cell_type": "markdown",
   "metadata": {},
   "source": [
    "## 관계형 대수식"
   ]
  },
  {
   "cell_type": "markdown",
   "metadata": {},
   "source": [
    "R1 ← client⋈ (c_item=i_no) item <br/>\n",
    "R2 ← πi_name (σc_name='seyfreid' (R1))"
   ]
  },
  {
   "cell_type": "markdown",
   "metadata": {},
   "source": [
    "<hr/>"
   ]
  },
  {
   "cell_type": "markdown",
   "metadata": {},
   "source": [
    "## 질의7. 이름이'messi'인 고객이 구매한 상품 가격을 검색하라."
   ]
  },
  {
   "cell_type": "code",
   "execution_count": 296,
   "metadata": {
    "collapsed": false
   },
   "outputs": [
    {
     "name": "stdout",
     "output_type": "stream",
     "text": [
      "Done.\n"
     ]
    },
    {
     "data": {
      "text/html": [
       "<table>\n",
       "    <tr>\n",
       "        <th>i_price</th>\n",
       "    </tr>\n",
       "    <tr>\n",
       "        <td>30</td>\n",
       "    </tr>\n",
       "</table>"
      ],
      "text/plain": [
       "[(30,)]"
      ]
     },
     "execution_count": 296,
     "metadata": {},
     "output_type": "execute_result"
    }
   ],
   "source": [
    "%sql select i_price from client c, item i where i.i_no = c.c_item and c.c_name='messi';"
   ]
  },
  {
   "cell_type": "markdown",
   "metadata": {},
   "source": [
    "## 테이블 도식화"
   ]
  },
  {
   "cell_type": "markdown",
   "metadata": {},
   "source": [
    "![query7](./dbimage/query7.jpg)"
   ]
  },
  {
   "cell_type": "markdown",
   "metadata": {},
   "source": [
    "## 관계형 대수식"
   ]
  },
  {
   "cell_type": "markdown",
   "metadata": {},
   "source": [
    "R1 ← client⋈(c_item=i_no) item <br/>\n",
    "R2 ← πi_price (σc_name='messi' (R1))"
   ]
  },
  {
   "cell_type": "markdown",
   "metadata": {},
   "source": [
    "<hr/>"
   ]
  },
  {
   "cell_type": "markdown",
   "metadata": {},
   "source": [
    "## 질의8. 판매자 'hathaway'에게 구매한 고객의 이름을 검색하라. "
   ]
  },
  {
   "cell_type": "code",
   "execution_count": 129,
   "metadata": {
    "collapsed": false
   },
   "outputs": [
    {
     "name": "stdout",
     "output_type": "stream",
     "text": [
      "Done.\n"
     ]
    },
    {
     "data": {
      "text/html": [
       "<table>\n",
       "    <tr>\n",
       "        <th>c_name</th>\n",
       "    </tr>\n",
       "    <tr>\n",
       "        <td>isabell</td>\n",
       "    </tr>\n",
       "</table>"
      ],
      "text/plain": [
       "[('isabell',)]"
      ]
     },
     "execution_count": 129,
     "metadata": {},
     "output_type": "execute_result"
    }
   ],
   "source": [
    "%sql select c_name from client c, saler s where s.s_name='hathaway' and s.s_no = c.c_saler;"
   ]
  },
  {
   "cell_type": "markdown",
   "metadata": {},
   "source": [
    "## 테이블 도식화"
   ]
  },
  {
   "cell_type": "markdown",
   "metadata": {},
   "source": [
    "![query88](./dbimage/query88.jpg)"
   ]
  },
  {
   "cell_type": "markdown",
   "metadata": {},
   "source": [
    "## 관계형 대수식"
   ]
  },
  {
   "cell_type": "markdown",
   "metadata": {},
   "source": [
    "R1 ← client⋈(c_item=s_no) saler <br/>\n",
    "R2 ← πc_name (σs_name='hathaway' (R1))"
   ]
  },
  {
   "cell_type": "markdown",
   "metadata": {},
   "source": [
    "<hr/>"
   ]
  },
  {
   "cell_type": "markdown",
   "metadata": {},
   "source": [
    "## 질의9. 판매자 'gotham'에게 구매한 고객의 성별을 검색하라."
   ]
  },
  {
   "cell_type": "code",
   "execution_count": 301,
   "metadata": {
    "collapsed": false
   },
   "outputs": [
    {
     "name": "stdout",
     "output_type": "stream",
     "text": [
      "Done.\n"
     ]
    },
    {
     "data": {
      "text/html": [
       "<table>\n",
       "    <tr>\n",
       "        <th>c_sex</th>\n",
       "    </tr>\n",
       "    <tr>\n",
       "        <td>male</td>\n",
       "    </tr>\n",
       "    <tr>\n",
       "        <td>male</td>\n",
       "    </tr>\n",
       "</table>"
      ],
      "text/plain": [
       "[('male',), ('male',)]"
      ]
     },
     "execution_count": 301,
     "metadata": {},
     "output_type": "execute_result"
    }
   ],
   "source": [
    "%sql select c_sex from client c, saler s where s.s_name='gotham' and s.s_no = c.c_saler;"
   ]
  },
  {
   "cell_type": "markdown",
   "metadata": {},
   "source": [
    "## 테이블 도식화"
   ]
  },
  {
   "cell_type": "markdown",
   "metadata": {},
   "source": [
    "![query99](./dbimage/query99.jpg)"
   ]
  },
  {
   "cell_type": "markdown",
   "metadata": {},
   "source": [
    "## 관계형 대수식"
   ]
  },
  {
   "cell_type": "markdown",
   "metadata": {},
   "source": [
    "R1 ← client⋈(c_saler=s_no) saler <br/>\n",
    "R2 ← πc_sex (σs_name='gotham' (R1))"
   ]
  },
  {
   "cell_type": "markdown",
   "metadata": {},
   "source": [
    "<hr/>"
   ]
  },
  {
   "cell_type": "markdown",
   "metadata": {},
   "source": [
    "## 질의10. 판매자 번호 '200'번대의 판매자에게 상품을 구매한 고객들의 이름을 검색하라."
   ]
  },
  {
   "cell_type": "code",
   "execution_count": 310,
   "metadata": {
    "collapsed": false
   },
   "outputs": [
    {
     "name": "stdout",
     "output_type": "stream",
     "text": [
      "Done.\n"
     ]
    },
    {
     "data": {
      "text/html": [
       "<table>\n",
       "    <tr>\n",
       "        <th>c_name</th>\n",
       "    </tr>\n",
       "    <tr>\n",
       "        <td>catherin</td>\n",
       "    </tr>\n",
       "    <tr>\n",
       "        <td>isabell</td>\n",
       "    </tr>\n",
       "    <tr>\n",
       "        <td>trump</td>\n",
       "    </tr>\n",
       "    <tr>\n",
       "        <td>manson</td>\n",
       "    </tr>\n",
       "</table>"
      ],
      "text/plain": [
       "[('catherin',), ('isabell',), ('trump',), ('manson',)]"
      ]
     },
     "execution_count": 310,
     "metadata": {},
     "output_type": "execute_result"
    }
   ],
   "source": [
    "%sql select c_name from client where 199<c_saler and c_saler<300;"
   ]
  },
  {
   "cell_type": "markdown",
   "metadata": {},
   "source": [
    "## 테이블 도식화"
   ]
  },
  {
   "cell_type": "markdown",
   "metadata": {},
   "source": [
    "![query10](./dbimage/query10.jpg)"
   ]
  },
  {
   "cell_type": "markdown",
   "metadata": {},
   "source": [
    "## 관계 대수식"
   ]
  },
  {
   "cell_type": "markdown",
   "metadata": {},
   "source": [
    "R ← πc_name (σ(199<c_saler<300) (client))"
   ]
  },
  {
   "cell_type": "markdown",
   "metadata": {},
   "source": [
    "<hr/>"
   ]
  },
  {
   "cell_type": "markdown",
   "metadata": {},
   "source": [
    "## 질의11. 판매자 번호 '300'번대의 판매자에게 상품을 구매한 고객들의 나이를 검색하라."
   ]
  },
  {
   "cell_type": "code",
   "execution_count": 312,
   "metadata": {
    "collapsed": false,
    "scrolled": true
   },
   "outputs": [
    {
     "name": "stdout",
     "output_type": "stream",
     "text": [
      "Done.\n"
     ]
    },
    {
     "data": {
      "text/html": [
       "<table>\n",
       "    <tr>\n",
       "        <th>c_age</th>\n",
       "    </tr>\n",
       "    <tr>\n",
       "        <td>30</td>\n",
       "    </tr>\n",
       "    <tr>\n",
       "        <td>52</td>\n",
       "    </tr>\n",
       "    <tr>\n",
       "        <td>50</td>\n",
       "    </tr>\n",
       "</table>"
      ],
      "text/plain": [
       "[(30,), (52,), (50,)]"
      ]
     },
     "execution_count": 312,
     "metadata": {},
     "output_type": "execute_result"
    }
   ],
   "source": [
    "%sql select c_age from client where 299<c_saler and c_saler<400;"
   ]
  },
  {
   "cell_type": "markdown",
   "metadata": {},
   "source": [
    "## 테이블 도식화"
   ]
  },
  {
   "cell_type": "markdown",
   "metadata": {},
   "source": [
    "![query11](./dbimage/query11.jpg)"
   ]
  },
  {
   "cell_type": "markdown",
   "metadata": {},
   "source": [
    "##  관계 대수식"
   ]
  },
  {
   "cell_type": "markdown",
   "metadata": {},
   "source": [
    "R ← πc_age (σ(299<c_saler<400 (client))"
   ]
  },
  {
   "cell_type": "markdown",
   "metadata": {},
   "source": [
    "<hr/>"
   ]
  },
  {
   "cell_type": "markdown",
   "metadata": {},
   "source": [
    "## 질의12. 이름이 'm'으로 시작하는 고객의 정보를 검색하라."
   ]
  },
  {
   "cell_type": "code",
   "execution_count": 322,
   "metadata": {
    "collapsed": false,
    "scrolled": true
   },
   "outputs": [
    {
     "name": "stdout",
     "output_type": "stream",
     "text": [
      "Done.\n"
     ]
    },
    {
     "data": {
      "text/html": [
       "<table>\n",
       "    <tr>\n",
       "        <th>c_no</th>\n",
       "        <th>c_name</th>\n",
       "        <th>c_age</th>\n",
       "        <th>c_sex</th>\n",
       "        <th>c_grade</th>\n",
       "        <th>c_item</th>\n",
       "        <th>c_saler</th>\n",
       "        <th>c_fmon</th>\n",
       "        <th>c_lmon</th>\n",
       "    </tr>\n",
       "    <tr>\n",
       "        <td>7</td>\n",
       "        <td>murto</td>\n",
       "        <td>52</td>\n",
       "        <td>male</td>\n",
       "        <td>gold</td>\n",
       "        <td>10</td>\n",
       "        <td>301</td>\n",
       "        <td>2016-09-01</td>\n",
       "        <td>2021-08-30</td>\n",
       "    </tr>\n",
       "    <tr>\n",
       "        <td>13</td>\n",
       "        <td>messi</td>\n",
       "        <td>30</td>\n",
       "        <td>male</td>\n",
       "        <td>vip</td>\n",
       "        <td>31</td>\n",
       "        <td>101</td>\n",
       "        <td>2006-03-01</td>\n",
       "        <td>2021-02-28</td>\n",
       "    </tr>\n",
       "    <tr>\n",
       "        <td>15</td>\n",
       "        <td>manson</td>\n",
       "        <td>21</td>\n",
       "        <td>male</td>\n",
       "        <td>gold</td>\n",
       "        <td>51</td>\n",
       "        <td>200</td>\n",
       "        <td>2014-03-01</td>\n",
       "        <td>2024-02-28</td>\n",
       "    </tr>\n",
       "</table>"
      ],
      "text/plain": [
       "[(7, 'murto', 52, 'male', 'gold', '10', 301, '2016-09-01', '2021-08-30'),\n",
       " (13, 'messi', 30, 'male', 'vip', '31', 101, '2006-03-01', '2021-02-28'),\n",
       " (15, 'manson', 21, 'male', 'gold', '51', 200, '2014-03-01', '2024-02-28')]"
      ]
     },
     "execution_count": 322,
     "metadata": {},
     "output_type": "execute_result"
    }
   ],
   "source": [
    "%sql select * from client where c_name like \"m%\";"
   ]
  },
  {
   "cell_type": "markdown",
   "metadata": {},
   "source": [
    "## 테이블 도식화"
   ]
  },
  {
   "cell_type": "markdown",
   "metadata": {},
   "source": [
    "![query12](./dbimage/query12.jpg)"
   ]
  },
  {
   "cell_type": "markdown",
   "metadata": {},
   "source": [
    "## 관계 대수식"
   ]
  },
  {
   "cell_type": "markdown",
   "metadata": {},
   "source": [
    "R ← σs_name='m%' (client))"
   ]
  },
  {
   "cell_type": "markdown",
   "metadata": {},
   "source": [
    "<hr/>"
   ]
  },
  {
   "cell_type": "markdown",
   "metadata": {},
   "source": [
    "## 질의13. 판매자 번호 '200'번인 판매자가 판매한 월매출을 검색하라."
   ]
  },
  {
   "cell_type": "code",
   "execution_count": 134,
   "metadata": {
    "collapsed": false,
    "scrolled": true
   },
   "outputs": [
    {
     "name": "stdout",
     "output_type": "stream",
     "text": [
      "Done.\n"
     ]
    },
    {
     "data": {
      "text/html": [
       "<table>\n",
       "    <tr>\n",
       "        <th>sum(i_price)</th>\n",
       "    </tr>\n",
       "    <tr>\n",
       "        <td>129</td>\n",
       "    </tr>\n",
       "</table>"
      ],
      "text/plain": [
       "[(129,)]"
      ]
     },
     "execution_count": 134,
     "metadata": {},
     "output_type": "execute_result"
    }
   ],
   "source": [
    "%sql select sum(i_price) from client c, item i where c.c_saler='200' and c.c_item = i.i_no; "
   ]
  },
  {
   "cell_type": "markdown",
   "metadata": {},
   "source": [
    "## 테이블 도식화"
   ]
  },
  {
   "cell_type": "markdown",
   "metadata": {},
   "source": [
    "![query13](./dbimage/query13.jpg)"
   ]
  },
  {
   "cell_type": "markdown",
   "metadata": {},
   "source": [
    "## 관계 대수식"
   ]
  },
  {
   "cell_type": "markdown",
   "metadata": {},
   "source": [
    "R1 ← client⋈(c_item=i_no) item <br/>\n",
    "R2 ← πi_price (σc_saler=200 (R1)) <br/>\n",
    "R3 ← SUM(R2)"
   ]
  },
  {
   "cell_type": "markdown",
   "metadata": {},
   "source": [
    "<hr/>"
   ]
  },
  {
   "cell_type": "markdown",
   "metadata": {},
   "source": [
    "## 질의14. 고객의 등급에 맞게 할인된 상품 가격을 검색하라."
   ]
  },
  {
   "cell_type": "code",
   "execution_count": 362,
   "metadata": {
    "collapsed": false
   },
   "outputs": [
    {
     "name": "stdout",
     "output_type": "stream",
     "text": [
      "Done.\n"
     ]
    },
    {
     "data": {
      "text/html": [
       "<table>\n",
       "    <tr>\n",
       "        <th>c_name</th>\n",
       "        <th>g_sale</th>\n",
       "        <th>i_price</th>\n",
       "        <th>sale_price</th>\n",
       "    </tr>\n",
       "    <tr>\n",
       "        <td>johnson</td>\n",
       "        <td>0.09</td>\n",
       "        <td>15</td>\n",
       "        <td>13.65</td>\n",
       "    </tr>\n",
       "    <tr>\n",
       "        <td>catherin</td>\n",
       "        <td>0.07</td>\n",
       "        <td>30</td>\n",
       "        <td>27.9</td>\n",
       "    </tr>\n",
       "    <tr>\n",
       "        <td>rick</td>\n",
       "        <td>0.07</td>\n",
       "        <td>40</td>\n",
       "        <td>37.199999999999996</td>\n",
       "    </tr>\n",
       "    <tr>\n",
       "        <td>gordick</td>\n",
       "        <td>0.09</td>\n",
       "        <td>60</td>\n",
       "        <td>54.6</td>\n",
       "    </tr>\n",
       "    <tr>\n",
       "        <td>isabell</td>\n",
       "        <td>0.05</td>\n",
       "        <td>20</td>\n",
       "        <td>19.0</td>\n",
       "    </tr>\n",
       "    <tr>\n",
       "        <td>seyfried</td>\n",
       "        <td>0.09</td>\n",
       "        <td>30</td>\n",
       "        <td>27.3</td>\n",
       "    </tr>\n",
       "    <tr>\n",
       "        <td>murto</td>\n",
       "        <td>0.07</td>\n",
       "        <td>15</td>\n",
       "        <td>13.95</td>\n",
       "    </tr>\n",
       "    <tr>\n",
       "        <td>glen</td>\n",
       "        <td>0.09</td>\n",
       "        <td>10</td>\n",
       "        <td>9.1</td>\n",
       "    </tr>\n",
       "    <tr>\n",
       "        <td>decaprio</td>\n",
       "        <td>0.09</td>\n",
       "        <td>30</td>\n",
       "        <td>27.3</td>\n",
       "    </tr>\n",
       "    <tr>\n",
       "        <td>trump</td>\n",
       "        <td>0.09</td>\n",
       "        <td>30</td>\n",
       "        <td>27.3</td>\n",
       "    </tr>\n",
       "    <tr>\n",
       "        <td>busi</td>\n",
       "        <td>0.09</td>\n",
       "        <td>60</td>\n",
       "        <td>54.6</td>\n",
       "    </tr>\n",
       "    <tr>\n",
       "        <td>ioniq</td>\n",
       "        <td>0.07</td>\n",
       "        <td>40</td>\n",
       "        <td>37.199999999999996</td>\n",
       "    </tr>\n",
       "    <tr>\n",
       "        <td>messi</td>\n",
       "        <td>0.09</td>\n",
       "        <td>30</td>\n",
       "        <td>27.3</td>\n",
       "    </tr>\n",
       "    <tr>\n",
       "        <td>jordan</td>\n",
       "        <td>0.05</td>\n",
       "        <td>80</td>\n",
       "        <td>76.0</td>\n",
       "    </tr>\n",
       "    <tr>\n",
       "        <td>manson</td>\n",
       "        <td>0.07</td>\n",
       "        <td>99</td>\n",
       "        <td>92.07</td>\n",
       "    </tr>\n",
       "</table>"
      ],
      "text/plain": [
       "[('johnson', 0.09, 15, 13.65),\n",
       " ('catherin', 0.07, 30, 27.9),\n",
       " ('rick', 0.07, 40, 37.199999999999996),\n",
       " ('gordick', 0.09, 60, 54.6),\n",
       " ('isabell', 0.05, 20, 19.0),\n",
       " ('seyfried', 0.09, 30, 27.3),\n",
       " ('murto', 0.07, 15, 13.95),\n",
       " ('glen', 0.09, 10, 9.1),\n",
       " ('decaprio', 0.09, 30, 27.3),\n",
       " ('trump', 0.09, 30, 27.3),\n",
       " ('busi', 0.09, 60, 54.6),\n",
       " ('ioniq', 0.07, 40, 37.199999999999996),\n",
       " ('messi', 0.09, 30, 27.3),\n",
       " ('jordan', 0.05, 80, 76.0),\n",
       " ('manson', 0.07, 99, 92.07)]"
      ]
     },
     "execution_count": 362,
     "metadata": {},
     "output_type": "execute_result"
    }
   ],
   "source": [
    "%sql select c_name, g_sale, i_price, ((1-g_sale)*i_price) as sale_price from client c, grade g, item i where g.g_grade=c.c_grade and i.i_no = c.c_item;"
   ]
  },
  {
   "cell_type": "markdown",
   "metadata": {},
   "source": [
    "## 테이블 도식화"
   ]
  },
  {
   "cell_type": "markdown",
   "metadata": {},
   "source": [
    "![query14](./dbimage/query14.jpg)"
   ]
  },
  {
   "cell_type": "markdown",
   "metadata": {},
   "source": [
    "## 관계 대수식"
   ]
  },
  {
   "cell_type": "markdown",
   "metadata": {},
   "source": [
    "R1 ← client⋈(c_item=i_no) item <br/>\n",
    "R2 ← R1⋈(c_grade=g_grade) grade <br/>\n",
    "R3 ← πi_price (R2) <br/>\n",
    "R4 ← πg_sale (R2) <br/>\n",
    "R5 ←  R3 * R4"
   ]
  },
  {
   "cell_type": "markdown",
   "metadata": {},
   "source": [
    "<hr/>"
   ]
  },
  {
   "cell_type": "markdown",
   "metadata": {},
   "source": [
    "## 질의15. 이름이 'g'로 시작하는 고객의 등급할인이 적용된 상품가격을 검색하라."
   ]
  },
  {
   "cell_type": "code",
   "execution_count": 366,
   "metadata": {
    "collapsed": false
   },
   "outputs": [
    {
     "name": "stdout",
     "output_type": "stream",
     "text": [
      "Done.\n"
     ]
    },
    {
     "data": {
      "text/html": [
       "<table>\n",
       "    <tr>\n",
       "        <th>c_name</th>\n",
       "        <th>sale_price</th>\n",
       "    </tr>\n",
       "    <tr>\n",
       "        <td>gordick</td>\n",
       "        <td>54.6</td>\n",
       "    </tr>\n",
       "    <tr>\n",
       "        <td>glen</td>\n",
       "        <td>9.1</td>\n",
       "    </tr>\n",
       "</table>"
      ],
      "text/plain": [
       "[('gordick', 54.6), ('glen', 9.1)]"
      ]
     },
     "execution_count": 366,
     "metadata": {},
     "output_type": "execute_result"
    }
   ],
   "source": [
    "%sql select c_name ,((1-g_sale)*i_price) as sale_price from client c, item i, grade g where c.c_name like \"g%\" and c.c_item=i.i_no and g.g_grade=c.c_grade;"
   ]
  },
  {
   "cell_type": "markdown",
   "metadata": {},
   "source": [
    "## 테이블 도식화"
   ]
  },
  {
   "cell_type": "markdown",
   "metadata": {},
   "source": [
    "![query15](./dbimage/query15.jpg)"
   ]
  },
  {
   "cell_type": "markdown",
   "metadata": {},
   "source": [
    "## 관계 대수식"
   ]
  },
  {
   "cell_type": "markdown",
   "metadata": {},
   "source": [
    "R1 ← client⋈(c_item=i_no) item <br/>\n",
    "R2 ← R1⋈(c_grade=g_grade) grade <br/>\n",
    "R3 ← πc_name='g%' and πi_price (R2) <br/>\n",
    "R4 ← πc_name='g%' and πg_sale (R2) <br/>\n",
    "R5 ← R3 * R4"
   ]
  },
  {
   "cell_type": "markdown",
   "metadata": {},
   "source": [
    "<hr/>"
   ]
  },
  {
   "cell_type": "markdown",
   "metadata": {},
   "source": [
    "## 질의16. 판매자 'meilan'에게 구매한 고객들의 구매 개월 수를 검색하라."
   ]
  },
  {
   "cell_type": "code",
   "execution_count": 136,
   "metadata": {
    "collapsed": false
   },
   "outputs": [
    {
     "name": "stdout",
     "output_type": "stream",
     "text": [
      "Done.\n"
     ]
    },
    {
     "data": {
      "text/html": [
       "<table>\n",
       "    <tr>\n",
       "        <th>s_name</th>\n",
       "        <th>c_name</th>\n",
       "        <th>SALE</th>\n",
       "    </tr>\n",
       "    <tr>\n",
       "        <td>meilan</td>\n",
       "        <td>murto</td>\n",
       "        <td>60</td>\n",
       "    </tr>\n",
       "</table>"
      ],
      "text/plain": [
       "[('meilan', 'murto', 60)]"
      ]
     },
     "execution_count": 136,
     "metadata": {},
     "output_type": "execute_result"
    }
   ],
   "source": [
    "%sql select s_name ,c_name ,(strftime('%Y', c_lmon, 'localtime')-strftime('%Y', c_fmon, 'localtime'))*12 as SALE from client c, saler s where s.s_name='meilan' and s.s_no = c.c_saler;"
   ]
  },
  {
   "cell_type": "markdown",
   "metadata": {},
   "source": [
    "## 테이블 도식화"
   ]
  },
  {
   "cell_type": "markdown",
   "metadata": {},
   "source": [
    "![query16](./dbimage/query16.jpg)"
   ]
  },
  {
   "cell_type": "markdown",
   "metadata": {},
   "source": [
    "## 관계 대수식"
   ]
  },
  {
   "cell_type": "markdown",
   "metadata": {},
   "source": [
    "R1 ← client⋈(c_item=s_no) saler <br/>\n",
    "R2 ← πc_fmon (σs_name='meilan'(R1)) <br/>\n",
    "R3 ← πc_lmon (σs_name='meilan'(R1)) <br/>\n",
    "R4 ← R3 - R2 "
   ]
  },
  {
   "cell_type": "markdown",
   "metadata": {},
   "source": [
    "<hr/>"
   ]
  },
  {
   "cell_type": "markdown",
   "metadata": {},
   "source": [
    "## 질의17. 등급이 'silver'인 고객들의 총 구매 개월 수를 검색하라. "
   ]
  },
  {
   "cell_type": "code",
   "execution_count": 137,
   "metadata": {
    "collapsed": false
   },
   "outputs": [
    {
     "name": "stdout",
     "output_type": "stream",
     "text": [
      "Done.\n"
     ]
    },
    {
     "data": {
      "text/html": [
       "<table>\n",
       "    <tr>\n",
       "        <th>c_name</th>\n",
       "        <th>SALE</th>\n",
       "    </tr>\n",
       "    <tr>\n",
       "        <td>isabell</td>\n",
       "        <td>120</td>\n",
       "    </tr>\n",
       "    <tr>\n",
       "        <td>jordan</td>\n",
       "        <td>240</td>\n",
       "    </tr>\n",
       "</table>"
      ],
      "text/plain": [
       "[('isabell', 120), ('jordan', 240)]"
      ]
     },
     "execution_count": 137,
     "metadata": {},
     "output_type": "execute_result"
    }
   ],
   "source": [
    "%sql select c_name, (strftime('%Y', c_lmon, 'localtime')-strftime('%Y', c_fmon, 'localtime'))*12 as SALE from client where c_grade='silver';"
   ]
  },
  {
   "cell_type": "markdown",
   "metadata": {},
   "source": [
    "## 테이블 도식화"
   ]
  },
  {
   "cell_type": "markdown",
   "metadata": {},
   "source": [
    "![query17](./dbimage/query17.jpg)"
   ]
  },
  {
   "cell_type": "markdown",
   "metadata": {},
   "source": [
    "## 관계 대수식"
   ]
  },
  {
   "cell_type": "markdown",
   "metadata": {},
   "source": [
    "R1 ← πc_fmon (σc_grade='silver'(client)) <br/>\n",
    "R2 ← πc_lmon (σc_grade='silver'(client) <br/>\n",
    "R3 ← R2 - R1 "
   ]
  },
  {
   "cell_type": "markdown",
   "metadata": {},
   "source": [
    "<hr/>"
   ]
  },
  {
   "cell_type": "markdown",
   "metadata": {},
   "source": [
    "## 질의18. 성별이 'female'인 고객들의 구매 개월 수 * 상품 가격을 검색하라."
   ]
  },
  {
   "cell_type": "code",
   "execution_count": 426,
   "metadata": {
    "collapsed": false,
    "scrolled": true
   },
   "outputs": [
    {
     "name": "stdout",
     "output_type": "stream",
     "text": [
      "Done.\n"
     ]
    },
    {
     "data": {
      "text/html": [
       "<table>\n",
       "    <tr>\n",
       "        <th>c_name</th>\n",
       "        <th>c_sex</th>\n",
       "        <th>SALE_PRICE</th>\n",
       "    </tr>\n",
       "    <tr>\n",
       "        <td>catherin</td>\n",
       "        <td>female</td>\n",
       "        <td>3600</td>\n",
       "    </tr>\n",
       "    <tr>\n",
       "        <td>isabell</td>\n",
       "        <td>female</td>\n",
       "        <td>2400</td>\n",
       "    </tr>\n",
       "    <tr>\n",
       "        <td>seyfried</td>\n",
       "        <td>female</td>\n",
       "        <td>7200</td>\n",
       "    </tr>\n",
       "    <tr>\n",
       "        <td>ioniq</td>\n",
       "        <td>female</td>\n",
       "        <td>4800</td>\n",
       "    </tr>\n",
       "</table>"
      ],
      "text/plain": [
       "[('catherin', 'female', 3600),\n",
       " ('isabell', 'female', 2400),\n",
       " ('seyfried', 'female', 7200),\n",
       " ('ioniq', 'female', 4800)]"
      ]
     },
     "execution_count": 426,
     "metadata": {},
     "output_type": "execute_result"
    }
   ],
   "source": [
    "%sql select c_name, c_sex, (strftime('%Y', c_lmon, 'localtime')-strftime('%Y', c_fmon, 'localtime'))*12*i_price as SALE_PRICE from client, item where c_sex='female' and c_item = i_no;"
   ]
  },
  {
   "cell_type": "markdown",
   "metadata": {},
   "source": [
    "## 테이블 도식화"
   ]
  },
  {
   "cell_type": "markdown",
   "metadata": {},
   "source": [
    "![query18](./dbimage/query18.jpg)"
   ]
  },
  {
   "cell_type": "markdown",
   "metadata": {},
   "source": [
    "## 관계 대수식"
   ]
  },
  {
   "cell_type": "markdown",
   "metadata": {},
   "source": [
    "R1 ← client⋈(c_item=i_no) item <br/>\n",
    "R2 ← πi_price (σc_sex='female'(R1)) <br/>\n",
    "R3 ← πc_lmon (σc_sex='female'(R1)) <br/>\n",
    "R4 ← πc_lmon (σc_sex='female'(R1)) <br/>\n",
    "R5 ← R4 - R3 <br/>\n",
    "R6 ← R2 * R5"
   ]
  },
  {
   "cell_type": "markdown",
   "metadata": {},
   "source": [
    "<hr/>"
   ]
  },
  {
   "cell_type": "markdown",
   "metadata": {},
   "source": [
    "## 질의19. 성별이 'male'이고, 등급이 'gold'인 고객들의 구매 개월 수 * 상품 가격을 검색하라."
   ]
  },
  {
   "cell_type": "code",
   "execution_count": 429,
   "metadata": {
    "collapsed": false,
    "scrolled": true
   },
   "outputs": [
    {
     "name": "stdout",
     "output_type": "stream",
     "text": [
      "Done.\n"
     ]
    },
    {
     "data": {
      "text/html": [
       "<table>\n",
       "    <tr>\n",
       "        <th>c_name</th>\n",
       "        <th>c_sex</th>\n",
       "        <th>c_grade</th>\n",
       "        <th>SALE_PRICE</th>\n",
       "    </tr>\n",
       "    <tr>\n",
       "        <td>rick</td>\n",
       "        <td>male</td>\n",
       "        <td>gold</td>\n",
       "        <td>9600</td>\n",
       "    </tr>\n",
       "    <tr>\n",
       "        <td>murto</td>\n",
       "        <td>male</td>\n",
       "        <td>gold</td>\n",
       "        <td>900</td>\n",
       "    </tr>\n",
       "    <tr>\n",
       "        <td>manson</td>\n",
       "        <td>male</td>\n",
       "        <td>gold</td>\n",
       "        <td>11880</td>\n",
       "    </tr>\n",
       "</table>"
      ],
      "text/plain": [
       "[('rick', 'male', 'gold', 9600),\n",
       " ('murto', 'male', 'gold', 900),\n",
       " ('manson', 'male', 'gold', 11880)]"
      ]
     },
     "execution_count": 429,
     "metadata": {},
     "output_type": "execute_result"
    }
   ],
   "source": [
    "%sql select c_name, c_sex, c_grade, (strftime('%Y', c_lmon, 'localtime')-strftime('%Y', c_fmon, 'localtime'))*12*i_price as SALE_PRICE from client, item where c_sex='male' and c_item=i_no and c_grade = 'gold';"
   ]
  },
  {
   "cell_type": "markdown",
   "metadata": {},
   "source": [
    "## 테이블 도식화"
   ]
  },
  {
   "cell_type": "markdown",
   "metadata": {},
   "source": [
    "![query19](./dbimage/query19.jpg.jpg)"
   ]
  },
  {
   "cell_type": "markdown",
   "metadata": {},
   "source": [
    "## 관계 대수식"
   ]
  },
  {
   "cell_type": "markdown",
   "metadata": {},
   "source": [
    "R1 ← client⋈(c_item=i_no) item <br/>\n",
    "R2 ← πi_price (σc_sex='male' and c_grade='gold'(R1)) <br/>\n",
    "R3 ← πc_lmon (σc_sex='male' and c_grade='gold'(R1)) <br/>\n",
    "R4 ← πc_lmon (σc_sex='male' and c_grade='gold'(R1)) <br/>\n",
    "R5 ← R4 - R3 <br/>\n",
    "R6 ← R2 * R5"
   ]
  },
  {
   "cell_type": "markdown",
   "metadata": {},
   "source": [
    "<hr/>"
   ]
  },
  {
   "cell_type": "markdown",
   "metadata": {},
   "source": [
    "## 질의20. 상품명중 'v' 가 포함된 상품의 총 매출액(할인값 적용, group by 적용)을 검색하라."
   ]
  },
  {
   "cell_type": "code",
   "execution_count": 438,
   "metadata": {
    "collapsed": false
   },
   "outputs": [
    {
     "name": "stdout",
     "output_type": "stream",
     "text": [
      "Done.\n"
     ]
    },
    {
     "data": {
      "text/html": [
       "<table>\n",
       "    <tr>\n",
       "        <th>i_name</th>\n",
       "        <th>SALE_PRICE</th>\n",
       "    </tr>\n",
       "    <tr>\n",
       "        <td>cancer_v</td>\n",
       "        <td>19656.0</td>\n",
       "    </tr>\n",
       "    <tr>\n",
       "        <td>kid_v</td>\n",
       "        <td>4464.0</td>\n",
       "    </tr>\n",
       "    <tr>\n",
       "        <td>tooth_v</td>\n",
       "        <td>11048.4</td>\n",
       "    </tr>\n",
       "    <tr>\n",
       "        <td>total_v</td>\n",
       "        <td>13104.0</td>\n",
       "    </tr>\n",
       "    <tr>\n",
       "        <td>wound_v</td>\n",
       "        <td>4914.0</td>\n",
       "    </tr>\n",
       "</table>"
      ],
      "text/plain": [
       "[('cancer_v', 19656.0),\n",
       " ('kid_v', 4464.0),\n",
       " ('tooth_v', 11048.4),\n",
       " ('total_v', 13104.0),\n",
       " ('wound_v', 4914.0)]"
      ]
     },
     "execution_count": 438,
     "metadata": {},
     "output_type": "execute_result"
    }
   ],
   "source": [
    "%sql select i_name, (strftime('%Y', c_lmon, 'localtime')-strftime('%Y', c_fmon, 'localtime'))*12*i_price*(1-g_sale) as SALE_PRICE from client, item, grade where i_name like \"%_v\" and c_item=i_no and c_grade = g_grade group by i_name;"
   ]
  },
  {
   "cell_type": "markdown",
   "metadata": {},
   "source": [
    "## 테이블 도식화"
   ]
  },
  {
   "cell_type": "markdown",
   "metadata": {},
   "source": [
    "![query20](./dbimage/query20.jpg)"
   ]
  },
  {
   "cell_type": "markdown",
   "metadata": {},
   "source": [
    "## 관계 대수식"
   ]
  },
  {
   "cell_type": "markdown",
   "metadata": {},
   "source": [
    "R1 ← client⋈(c_item=i_no) item <br/>\n",
    "R2 ← R1⋈(c_grade=g_grade) grade <br/>\n",
    "R3 ← πi_price (σi_name='%v' (R2)) <br/>\n",
    "R4 ← πg_sale (R2) <br/>\n",
    "R5 ← πc_lmon (σi_name='%v' (R1)) <br/>\n",
    "R6 ← πc_fmon (σi_name='%v' (R1)) <br/>\n",
    "R7 ← R6 - R5 <br/>\n",
    "R8 ← R7 * R3 * (1-R2)"
   ]
  },
  {
   "cell_type": "markdown",
   "metadata": {},
   "source": [
    "<hr/>"
   ]
  },
  {
   "cell_type": "markdown",
   "metadata": {},
   "source": [
    "## 질의21. 고객이름, 등급할인율, 상품이름, 판매자이름, 판매자 급여를 검색하라. (다중 join)"
   ]
  },
  {
   "cell_type": "code",
   "execution_count": 257,
   "metadata": {
    "collapsed": false,
    "scrolled": true
   },
   "outputs": [
    {
     "name": "stdout",
     "output_type": "stream",
     "text": [
      "Done.\n"
     ]
    },
    {
     "data": {
      "text/html": [
       "<table>\n",
       "    <tr>\n",
       "        <th>client_name</th>\n",
       "        <th>per_sale</th>\n",
       "        <th>product_name</th>\n",
       "        <th>saler</th>\n",
       "        <th>saler_payment</th>\n",
       "    </tr>\n",
       "    <tr>\n",
       "        <td>johnson</td>\n",
       "        <td>0.09</td>\n",
       "        <td>total</td>\n",
       "        <td>stark</td>\n",
       "        <td>50000</td>\n",
       "    </tr>\n",
       "    <tr>\n",
       "        <td>catherin</td>\n",
       "        <td>0.07</td>\n",
       "        <td>total_v</td>\n",
       "        <td>bradpitt</td>\n",
       "        <td>30000</td>\n",
       "    </tr>\n",
       "    <tr>\n",
       "        <td>rick</td>\n",
       "        <td>0.07</td>\n",
       "        <td>cancer</td>\n",
       "        <td>cambell</td>\n",
       "        <td>40000</td>\n",
       "    </tr>\n",
       "    <tr>\n",
       "        <td>gordick</td>\n",
       "        <td>0.09</td>\n",
       "        <td>cancer_v</td>\n",
       "        <td>gotham</td>\n",
       "        <td>30000</td>\n",
       "    </tr>\n",
       "    <tr>\n",
       "        <td>isabell</td>\n",
       "        <td>0.05</td>\n",
       "        <td>kid</td>\n",
       "        <td>hathaway</td>\n",
       "        <td>40000</td>\n",
       "    </tr>\n",
       "    <tr>\n",
       "        <td>seyfried</td>\n",
       "        <td>0.09</td>\n",
       "        <td>total_v</td>\n",
       "        <td>victor</td>\n",
       "        <td>30000</td>\n",
       "    </tr>\n",
       "    <tr>\n",
       "        <td>murto</td>\n",
       "        <td>0.07</td>\n",
       "        <td>total</td>\n",
       "        <td>meilan</td>\n",
       "        <td>40000</td>\n",
       "    </tr>\n",
       "    <tr>\n",
       "        <td>glen</td>\n",
       "        <td>0.09</td>\n",
       "        <td>wound</td>\n",
       "        <td>lee</td>\n",
       "        <td>30000</td>\n",
       "    </tr>\n",
       "    <tr>\n",
       "        <td>decaprio</td>\n",
       "        <td>0.09</td>\n",
       "        <td>total_v</td>\n",
       "        <td>obama</td>\n",
       "        <td>50000</td>\n",
       "    </tr>\n",
       "    <tr>\n",
       "        <td>trump</td>\n",
       "        <td>0.09</td>\n",
       "        <td>total_v</td>\n",
       "        <td>jang</td>\n",
       "        <td>50000</td>\n",
       "    </tr>\n",
       "    <tr>\n",
       "        <td>busi</td>\n",
       "        <td>0.09</td>\n",
       "        <td>cancer_v</td>\n",
       "        <td>stark</td>\n",
       "        <td>50000</td>\n",
       "    </tr>\n",
       "    <tr>\n",
       "        <td>ioniq</td>\n",
       "        <td>0.07</td>\n",
       "        <td>kid_v</td>\n",
       "        <td>lee</td>\n",
       "        <td>30000</td>\n",
       "    </tr>\n",
       "    <tr>\n",
       "        <td>messi</td>\n",
       "        <td>0.09</td>\n",
       "        <td>wound_v</td>\n",
       "        <td>cambell</td>\n",
       "        <td>40000</td>\n",
       "    </tr>\n",
       "    <tr>\n",
       "        <td>jordan</td>\n",
       "        <td>0.05</td>\n",
       "        <td>tooth</td>\n",
       "        <td>gotham</td>\n",
       "        <td>30000</td>\n",
       "    </tr>\n",
       "    <tr>\n",
       "        <td>manson</td>\n",
       "        <td>0.07</td>\n",
       "        <td>tooth_v</td>\n",
       "        <td>jang</td>\n",
       "        <td>50000</td>\n",
       "    </tr>\n",
       "</table>"
      ],
      "text/plain": [
       "[('johnson', 0.09, 'total', 'stark', 50000),\n",
       " ('catherin', 0.07, 'total_v', 'bradpitt', 30000),\n",
       " ('rick', 0.07, 'cancer', 'cambell', 40000),\n",
       " ('gordick', 0.09, 'cancer_v', 'gotham', 30000),\n",
       " ('isabell', 0.05, 'kid', 'hathaway', 40000),\n",
       " ('seyfried', 0.09, 'total_v', 'victor', 30000),\n",
       " ('murto', 0.07, 'total', 'meilan', 40000),\n",
       " ('glen', 0.09, 'wound', 'lee', 30000),\n",
       " ('decaprio', 0.09, 'total_v', 'obama', 50000),\n",
       " ('trump', 0.09, 'total_v', 'jang', 50000),\n",
       " ('busi', 0.09, 'cancer_v', 'stark', 50000),\n",
       " ('ioniq', 0.07, 'kid_v', 'lee', 30000),\n",
       " ('messi', 0.09, 'wound_v', 'cambell', 40000),\n",
       " ('jordan', 0.05, 'tooth', 'gotham', 30000),\n",
       " ('manson', 0.07, 'tooth_v', 'jang', 50000)]"
      ]
     },
     "execution_count": 257,
     "metadata": {},
     "output_type": "execute_result"
    }
   ],
   "source": [
    "%sql select c_name as client_name , g_sale as per_sale, i_name as product_name, s_name as saler, s_payment as saler_payment from client, saler, item, grade where g_grade=c_grade and i_no=c_item and s_no=c_saler;"
   ]
  },
  {
   "cell_type": "markdown",
   "metadata": {},
   "source": [
    "## 테이블 도식화"
   ]
  },
  {
   "cell_type": "markdown",
   "metadata": {},
   "source": [
    "![query21](./dbimage/query21.jpg)"
   ]
  },
  {
   "cell_type": "markdown",
   "metadata": {},
   "source": [
    "## 관계 대수식"
   ]
  },
  {
   "cell_type": "markdown",
   "metadata": {},
   "source": [
    "R1 ← client⋈(c_item=i_no) item <br/>\n",
    "R2 ← R1⋈(c_grade=g_grade) grade <br/>\n",
    "R3 ← R2⋈(c_saler=s_no) saler <br/>\n",
    "R4 ← πc_name, g_sale, i_name, s_name, s_payment (R3) "
   ]
  },
  {
   "cell_type": "markdown",
   "metadata": {},
   "source": [
    "<hr/>"
   ]
  },
  {
   "cell_type": "markdown",
   "metadata": {},
   "source": [
    "## 질의22. 질의21번에서 급여가 39999 이상인 판매자의 이름을 검색하라. (in)"
   ]
  },
  {
   "cell_type": "code",
   "execution_count": 13,
   "metadata": {
    "collapsed": false,
    "scrolled": true
   },
   "outputs": [
    {
     "name": "stdout",
     "output_type": "stream",
     "text": [
      "Done.\n"
     ]
    },
    {
     "data": {
      "text/html": [
       "<table>\n",
       "    <tr>\n",
       "        <th>saler</th>\n",
       "        <th>payment</th>\n",
       "    </tr>\n",
       "    <tr>\n",
       "        <td>stark</td>\n",
       "        <td>50000</td>\n",
       "    </tr>\n",
       "    <tr>\n",
       "        <td>cambell</td>\n",
       "        <td>40000</td>\n",
       "    </tr>\n",
       "    <tr>\n",
       "        <td>jang</td>\n",
       "        <td>50000</td>\n",
       "    </tr>\n",
       "    <tr>\n",
       "        <td>Hathaway</td>\n",
       "        <td>40000</td>\n",
       "    </tr>\n",
       "    <tr>\n",
       "        <td>obama</td>\n",
       "        <td>50000</td>\n",
       "    </tr>\n",
       "    <tr>\n",
       "        <td>meilan</td>\n",
       "        <td>40000</td>\n",
       "    </tr>\n",
       "</table>"
      ],
      "text/plain": [
       "[('stark', 50000),\n",
       " ('cambell', 40000),\n",
       " ('jang', 50000),\n",
       " ('Hathaway', 40000),\n",
       " ('obama', 50000),\n",
       " ('meilan', 40000)]"
      ]
     },
     "execution_count": 13,
     "metadata": {},
     "output_type": "execute_result"
    }
   ],
   "source": [
    "%sql select s_name as saler, s_payment as payment from saler where s_payment in  (select s_payment from client, saler, item, grade where g_grade=c_grade and i_no=c_item and s_no=c_saler and s_payment>39999);"
   ]
  },
  {
   "cell_type": "markdown",
   "metadata": {},
   "source": [
    "## 테이블 도식화"
   ]
  },
  {
   "cell_type": "markdown",
   "metadata": {},
   "source": [
    "![query22](./dbimage/query22.jpg)"
   ]
  },
  {
   "cell_type": "markdown",
   "metadata": {},
   "source": [
    "## 관계 대수식"
   ]
  },
  {
   "cell_type": "markdown",
   "metadata": {},
   "source": [
    "R1 ← client⋈(c_item=i_no) item <br/>\n",
    "R2 ← R1⋈(c_grade=g_grade) grade <br/>\n",
    "R3 ← R2⋈(c_saler=s_no) saler <br/>\n",
    "R4 ← πc_name, g_sale, i_name, s_name, s_payment (R3) <br/>\n",
    "R5 ← πc_name (σs_payment>39999 (R4)) <br/>"
   ]
  },
  {
   "cell_type": "markdown",
   "metadata": {},
   "source": [
    "<hr/>"
   ]
  },
  {
   "cell_type": "markdown",
   "metadata": {},
   "source": [
    "## 질의23. 판매자 번호 '100'번대의 사람들이 판매한 고객의 이름을 검색하라. (exists)"
   ]
  },
  {
   "cell_type": "code",
   "execution_count": 255,
   "metadata": {
    "collapsed": false,
    "scrolled": false
   },
   "outputs": [
    {
     "name": "stdout",
     "output_type": "stream",
     "text": [
      "Done.\n"
     ]
    },
    {
     "data": {
      "text/html": [
       "<table>\n",
       "    <tr>\n",
       "        <th>c_name</th>\n",
       "    </tr>\n",
       "    <tr>\n",
       "        <td>johnson</td>\n",
       "    </tr>\n",
       "    <tr>\n",
       "        <td>rick</td>\n",
       "    </tr>\n",
       "    <tr>\n",
       "        <td>gordick</td>\n",
       "    </tr>\n",
       "    <tr>\n",
       "        <td>glen</td>\n",
       "    </tr>\n",
       "    <tr>\n",
       "        <td>busi</td>\n",
       "    </tr>\n",
       "    <tr>\n",
       "        <td>ioniq</td>\n",
       "    </tr>\n",
       "    <tr>\n",
       "        <td>messi</td>\n",
       "    </tr>\n",
       "    <tr>\n",
       "        <td>jordan</td>\n",
       "    </tr>\n",
       "</table>"
      ],
      "text/plain": [
       "[('johnson',),\n",
       " ('rick',),\n",
       " ('gordick',),\n",
       " ('glen',),\n",
       " ('busi',),\n",
       " ('ioniq',),\n",
       " ('messi',),\n",
       " ('jordan',)]"
      ]
     },
     "execution_count": 255,
     "metadata": {},
     "output_type": "execute_result"
    }
   ],
   "source": [
    "%sql select c_name from client c where exists  (select s_no from (select c_name , g_sale, s_no, s_name, s_payment from client, saler, item, grade where g_grade=c_grade and i_no=c_item and s_no=c_saler) as a where a.s_no in (100,101,102,103) and c.c_saler = a.s_no);"
   ]
  },
  {
   "cell_type": "markdown",
   "metadata": {},
   "source": [
    "## 테이블 도식화"
   ]
  },
  {
   "cell_type": "markdown",
   "metadata": {},
   "source": [
    "![query23](./dbimage/query23.jpg)"
   ]
  },
  {
   "cell_type": "markdown",
   "metadata": {},
   "source": [
    "## 관계 대수식"
   ]
  },
  {
   "cell_type": "markdown",
   "metadata": {},
   "source": [
    "R1 ← client⋈(c_item=i_no) item <br/>\n",
    "R2 ← R1⋈(c_grade=g_grade) grade <br/>\n",
    "R3 ← R2⋈(c_saler=s_no) saler <br/>\n",
    "R4 ← πc_name, g_sale, i_name, s_name, s_payment (R3) <br/>\n",
    "R5 ← πc_name (σc_saler<200 (R4)) "
   ]
  }
 ],
 "metadata": {
  "kernelspec": {
   "display_name": "Python 3",
   "language": "python",
   "name": "python3"
  },
  "language_info": {
   "codemirror_mode": {
    "name": "ipython",
    "version": 3
   },
   "file_extension": ".py",
   "mimetype": "text/x-python",
   "name": "python",
   "nbconvert_exporter": "python",
   "pygments_lexer": "ipython3",
   "version": "3.6.0"
  }
 },
 "nbformat": 4,
 "nbformat_minor": 2
}
